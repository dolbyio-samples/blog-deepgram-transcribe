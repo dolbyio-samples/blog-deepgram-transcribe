{
 "cells": [
  {
   "cell_type": "markdown",
   "metadata": {},
   "source": [
    "# Integrating Deepgram with Dolby.io for Conference Recording Transcription"
   ]
  },
  {
   "cell_type": "code",
   "execution_count": null,
   "metadata": {},
   "outputs": [],
   "source": [
    "# Install dependencies (first time only)\n",
    "! pip install asyncio deepgram-sdk dolbyio-rest-apis\n",
    "# asyncio: https://docs.python.org/3/library/asyncio.html\n",
    "# deepgram-sdk: https://pypi.org/project/deepgram-sdk/\n",
    "# dolbyio-rest-apis: https://pypi.org/project/dolbyio-rest-apis/"
   ]
  },
  {
   "cell_type": "markdown",
   "metadata": {},
   "source": [
    "## Step 1. Generate Bearer Token for Communications API"
   ]
  },
  {
   "cell_type": "code",
   "execution_count": null,
   "metadata": {},
   "outputs": [],
   "source": [
    "from dolbyio_rest_apis.communications import authentication\n",
    "import asyncio\n",
    "\n",
    "# Input your Dolby.io Communications Credentials here\n",
    "CONSUMER_KEY = \"<DOLBYIO_CONSUMER_KEY>\"\n",
    "CONSUMER_SECRET = \"<DOLBYIO_CONSUMER_SECRET>\"\n",
    "\n",
    "# Create a function that will generate a new api access token when needed\n",
    "async def gen_token():\n",
    "    response = await authentication.get_api_access_token(CONSUMER_KEY, CONSUMER_SECRET)\n",
    "    return response['access_token']\n",
    "\n",
    "print(f\"Access Token: {await gen_token()}\")"
   ]
  },
  {
   "cell_type": "markdown",
   "metadata": {},
   "source": [
    "## Step 2: Get the Conference ID"
   ]
  },
  {
   "cell_type": "code",
   "execution_count": null,
   "metadata": {},
   "outputs": [],
   "source": [
    "from dolbyio_rest_apis.communications.monitor import conferences\n",
    "\n",
    "response = await conferences.get_conferences(await gen_token())\n",
    "# Save the most recent conference. Change '-1' to whichever conference you want.\n",
    "confId = response['conferences'][-1]['confId']\n",
    "print(confId)"
   ]
  },
  {
   "cell_type": "markdown",
   "metadata": {},
   "source": [
    "## Step 3: Download the Recording"
   ]
  },
  {
   "cell_type": "code",
   "execution_count": null,
   "metadata": {},
   "outputs": [],
   "source": [
    "from dolbyio_rest_apis.communications.monitor import recordings\n",
    "\n",
    "# Save only the mp3 file and return as a URL.\n",
    "# If your conference does not use Dolby Voice, use 'download_mp3_recording' instead.\n",
    "# https://github.com/dolbyio-samples/dolbyio-rest-apis-client-python/blob/main/client/src/dolbyio_rest_apis/communications/monitor/recordings.py\n",
    "response = await recordings.get_dolby_voice_recordings(await gen_token(), confId)\n",
    "recording_url = response['url']\n",
    "print(recording_url)"
   ]
  },
  {
   "cell_type": "markdown",
   "metadata": {},
   "source": [
    "## Step 4: Send to Deepgram"
   ]
  },
  {
   "cell_type": "code",
   "execution_count": null,
   "metadata": {},
   "outputs": [],
   "source": [
    "from deepgram import Deepgram\n",
    "\n",
    "# Your Deepgram API Key\n",
    "DEEPGRAM_API_KEY = '<DEEPGRAM_API_KEY>'\n",
    "\n",
    "# Location of the file you want to transcribe. Should include filename and extension.\n",
    "FILE = recording_url\n",
    "\n",
    "async def main():\n",
    "\n",
    "  # Initialize the Deepgram SDK\n",
    "  deepgram = Deepgram(DEEPGRAM_API_KEY)\n",
    "  \n",
    "  # file is remote\n",
    "  # Set the source\n",
    "  source = {\n",
    "    'url': FILE\n",
    "  }\n",
    "\n",
    "  # Send the audio to Deepgram and get the response\n",
    "  response = await asyncio.create_task(\n",
    "    deepgram.transcription.prerecorded(\n",
    "      source, \n",
    "      {\n",
    "        'punctuate': True\n",
    "      }\n",
    "    )\n",
    "  )\n",
    "\n",
    "  # Write only the transcript to the console\n",
    "  print(response['results']['channels'][0]['alternatives'][0]['transcript'])\n",
    "\n",
    "try:\n",
    "  await main()\n",
    "  # If not running in a Jupyter notebook, run main with this line instead:\n",
    "  # asyncio.run(main())\n",
    "except Exception as e:\n",
    "  exception_type, exception_object, exception_traceback = sys.exc_info()\n",
    "  line_number = exception_traceback.tb_lineno\n",
    "  print(f'line {line_number}: {exception_type} - {e}')\n"
   ]
  }
 ],
 "metadata": {
  "interpreter": {
   "hash": "4aff8e12f46aabcbde10d59889f15507dac8d5852ae3e0b0e16e22cf0aee36ca"
  },
  "kernelspec": {
   "display_name": "Python 3.10.3 64-bit ('3.10.3')",
   "language": "python",
   "name": "python3"
  },
  "language_info": {
   "codemirror_mode": {
    "name": "ipython",
    "version": 3
   },
   "file_extension": ".py",
   "mimetype": "text/x-python",
   "name": "python",
   "nbconvert_exporter": "python",
   "pygments_lexer": "ipython3",
   "version": "3.10.3"
  },
  "orig_nbformat": 4
 },
 "nbformat": 4,
 "nbformat_minor": 2
}
